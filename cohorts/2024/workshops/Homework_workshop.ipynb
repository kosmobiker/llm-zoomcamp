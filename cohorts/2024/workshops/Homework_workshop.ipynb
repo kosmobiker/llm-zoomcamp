{
 "cells": [
  {
   "cell_type": "markdown",
   "metadata": {
    "id": "Y2-47Y87jwW_"
   },
   "source": [
    "# Open source data ingestion for RAGs with dlt\n",
    "\n",
    "Video: https://www.youtube.com/watch?v=qUNyfR_X2Mo\n",
    "\n",
    "In this hands-on workshop, we’ll learn how to build a data ingestion pipeline using dlt to load data from a REST API into LanceDB so you can have an always up to date RAG.\n",
    "\n",
    "​We’ll cover the following steps:\n",
    "\n",
    "* Extract data from REST APIs\n",
    "* Loading and vectorizing into LanceDB, which unlike other vector DBs stores the data _and_ the embeddings\n",
    "* Incremental loading\n",
    "\n",
    "​By the end of this workshop, you’ll be able to write a portable, OSS data pipeline for your RAG that you can deploy anywhere, such as python notebooks, virtual machines, or orchestrators like Airflow, Dagster or Mage.\n",
    "\n",
    "\n",
    "# Resources\n",
    "\n",
    "* Slides: [dlt-LLM-Zoomcamp.pdf](https://github.com/user-attachments/files/16131729/dlt.LLM.Zoomcamp.pdf)\n",
    "* [Google Colab notebook](https://colab.research.google.com/drive/1nNOybHdWQiwUUuJFZu__xvJxL_ADU3xl?usp=sharing) - make a copy to follow along!"
   ]
  },
  {
   "cell_type": "markdown",
   "metadata": {
    "id": "K3VvFlhSbRYx"
   },
   "source": [
    "## Install requirements"
   ]
  },
  {
   "cell_type": "markdown",
   "metadata": {
    "id": "OSlHmqELbQHI"
   },
   "source": [
    "To create a json -> lancedb pipeline, we need to install:\n",
    "1. dlt with lancedb extras\n",
    "2. sentence-transformers: we need to use an embedding model to vectorize and store data inside LanceDB. For this we choose the open-source model \"sentence-transformers/all-MiniLM-L6-v2\"."
   ]
  },
  {
   "cell_type": "code",
   "execution_count": 54,
   "metadata": {
    "id": "vcQ6QseXKSHX"
   },
   "outputs": [],
   "source": [
    "%%capture\n",
    "!pip install dlt[lancedb]==0.5.1a0\n",
    "!pip install sentence-transformers"
   ]
  },
  {
   "cell_type": "markdown",
   "metadata": {
    "id": "roJHcRy0bW95"
   },
   "source": [
    "## Load the data"
   ]
  },
  {
   "cell_type": "markdown",
   "metadata": {
    "id": "c5-X9owIbsAL"
   },
   "source": [
    "# Homework\n",
    "\n",
    "In the workshop, we extracted contents from two pages in notion titled \"Workshop: Benefits and Perks\" and \"Workshop: Working hours, PTO, and Vacation\".\n",
    "\n",
    "Repeat the same process for a third page titled \"Homework: Employee handbook\" (hidden from public view, but accessible via API key):\n",
    "\n",
    "1. Modify the REST API source to extract only this page.\n",
    "2. Write the output into a separate table called \"homework\".\n",
    "3. Remember to update the table name in all cells where you connect to a lancedb table.\n",
    "\n",
    "To do this you can use the [workshop Colab](https://colab.research.google.com/drive/1nNOybHdWQiwUUuJFZu__xvJxL_ADU3xl?usp=sharing) as a basis.\n",
    "\n",
    "Now, answer the following questions:"
   ]
  },
  {
   "cell_type": "code",
   "execution_count": 55,
   "metadata": {
    "id": "4AVm0h1rjv8r"
   },
   "outputs": [],
   "source": [
    "%%capture\n",
    "!pip install dlt[lancedb]==0.5.1a0\n",
    "!pip install sentence-transformers"
   ]
  },
  {
   "cell_type": "code",
   "execution_count": 56,
   "metadata": {
    "colab": {
     "base_uri": "https://localhost:8080/"
    },
    "id": "Gn5QwziOjqT9",
    "outputId": "a7bb4379-2759-41d9-a8c3-28cae03db23c"
   },
   "outputs": [
    {
     "name": "stdout",
     "output_type": "stream",
     "text": [
      "Looking up the init scripts in \u001b[1mhttps://github.com/dlt-hub/verified-sources.git\u001b[0m...\n",
      "Cloning and configuring a verified source \u001b[1mrest_api\u001b[0m (Generic API Source)\n",
      "Do you want to proceed? [Y/n]: \n",
      "Verified source \u001b[1mrest_api\u001b[0m was added to your project!\n",
      "* See the usage examples and code snippets to copy from \u001b[1mrest_api_pipeline.py\u001b[0m\n",
      "* Add credentials for \u001b[1mlancedb\u001b[0m and other secrets in \u001b[1m./.dlt/secrets.toml\u001b[0m\n",
      "* Add the required dependencies to \u001b[1mrequirements.txt\u001b[0m:\n",
      "  \u001b[1mdlt[lancedb]>=0.4.11\u001b[0m\n",
      "  If the dlt dependency is already added, make sure you install the extra for \u001b[1mlancedb\u001b[0m to it\n",
      "  To install with pip: \u001b[1mpip3 install 'dlt[lancedb]>=0.4.11'\u001b[0m\n",
      "\n",
      "* Read \u001b[1mhttps://dlthub.com/docs/walkthroughs/create-a-pipeline\u001b[0m for more information\n"
     ]
    }
   ],
   "source": [
    "!yes | dlt init rest_api lancedb"
   ]
  },
  {
   "cell_type": "code",
   "execution_count": 57,
   "metadata": {
    "id": "vSLP6qhNqafV"
   },
   "outputs": [],
   "source": [
    "import os\n",
    "from google.colab import userdata\n",
    "\n",
    "os.environ[\"SOURCES__REST_API__NOTION__API_KEY\"] = userdata.get(\"SOURCES__REST_API__NOTION__API_KEY\")\n",
    "\n",
    "os.environ[\"DESTINATION__LANCEDB__EMBEDDING_MODEL_PROVIDER\"] = \"sentence-transformers\"\n",
    "os.environ[\"DESTINATION__LANCEDB__EMBEDDING_MODEL\"] = \"all-MiniLM-L6-v2\"\n",
    "\n",
    "os.environ[\"DESTINATION__LANCEDB__CREDENTIALS__URI\"] = \".lancedb\""
   ]
  },
  {
   "cell_type": "code",
   "execution_count": 58,
   "metadata": {
    "id": "BiA7UEAmtoFy"
   },
   "outputs": [],
   "source": [
    "import dlt\n",
    "from rest_api import RESTAPIConfig, rest_api_source\n",
    "\n",
    "from dlt.sources.helpers.rest_client.paginators import BasePaginator, JSONResponsePaginator\n",
    "from dlt.sources.helpers.requests import Response, Request\n",
    "\n",
    "from dlt.destinations.adapters import lancedb_adapter"
   ]
  },
  {
   "cell_type": "markdown",
   "metadata": {
    "id": "66l6khvmpDAD"
   },
   "source": [
    "## Q1. Rows in LanceDB\n",
    "\n",
    "How many rows does the lancedb table \"notion_pages__homework\" have?\n",
    "\n",
    "* 14\n",
    "* 15\n",
    "* 16\n",
    "* ***17*** ✅"
   ]
  },
  {
   "cell_type": "code",
   "execution_count": 59,
   "metadata": {
    "id": "3RzeKOoNUsyL"
   },
   "outputs": [],
   "source": [
    "from datetime import datetime, timezone\n",
    "\n",
    "class PostBodyPaginator(BasePaginator):\n",
    "    def __init__(self):\n",
    "        super().__init__()\n",
    "        self.cursor = None\n",
    "\n",
    "    def update_state(self, response: Response) -> None:\n",
    "        # Assuming the API returns an empty list when no more data is available\n",
    "        if not response.json():\n",
    "            self._has_next_page = False\n",
    "        else:\n",
    "            self.cursor = response.json().get(\"next_cursor\")\n",
    "            if self.cursor is None:\n",
    "                self._has_next_page = False\n",
    "\n",
    "    def update_request(self, request: Request) -> None:\n",
    "        if request.json is None:\n",
    "            request.json = {}\n",
    "\n",
    "        # Add the cursor to the request body\n",
    "        request.json[\"start_cursor\"] = self.cursor"
   ]
  },
  {
   "cell_type": "code",
   "execution_count": 60,
   "metadata": {
    "id": "H1KaJXV_ujXn"
   },
   "outputs": [],
   "source": [
    "import requests\n",
    "import json\n",
    "\n",
    "notion_api_key = userdata.get(\"SOURCES__REST_API__NOTION__API_KEY\")\n",
    "headers = {\n",
    "    \"Authorization\": f\"Bearer {notion_api_key}\",\n",
    "    \"Content-Type\": \"application/json\",\n",
    "    \"Notion-Version\": \"2022-06-28\"\n",
    "}\n",
    "\n",
    "payload = {\n",
    "    \"query\": \"homework\",\n",
    "    \"sort\": {\n",
    "        \"direction\": \"ascending\",\n",
    "        \"timestamp\": \"last_edited_time\"\n",
    "    },\n",
    "    \"filter\": {\n",
    "        \"value\": \"page\",\n",
    "        \"property\": \"object\"\n",
    "    }\n",
    "}\n",
    "\n",
    "response = requests.post(\"https://api.notion.com/v1/search\", headers=headers, data=json.dumps(payload))\n",
    "\n",
    "# Check if the request was successful\n",
    "if response.status_code == 200:\n",
    "    search_results = response.json()\n",
    "else:\n",
    "    print(f\"Error: {response.status_code}\")"
   ]
  },
  {
   "cell_type": "code",
   "execution_count": 64,
   "metadata": {
    "colab": {
     "base_uri": "https://localhost:8080/",
     "height": 35
    },
    "id": "-6maatc6ujaE",
    "outputId": "e9fbe1aa-06d7-43e9-d134-fba48449913a"
   },
   "outputs": [
    {
     "data": {
      "application/vnd.google.colaboratory.intrinsic+json": {
       "type": "string"
      },
      "text/plain": [
       "'https://www.notion.so/Homework-Employee-handbook-c2db1e2c75c24b568d731e882c753c87'"
      ]
     },
     "execution_count": 64,
     "metadata": {},
     "output_type": "execute_result"
    }
   ],
   "source": [
    "search_results['results'][0]['url']"
   ]
  },
  {
   "cell_type": "code",
   "execution_count": 65,
   "metadata": {
    "colab": {
     "base_uri": "https://localhost:8080/"
    },
    "id": "yVrKrqwPujcp",
    "outputId": "dad998cf-25a1-4c5b-a243-6cb899025637"
   },
   "outputs": [
    {
     "name": "stdout",
     "output_type": "stream",
     "text": [
      "employee_homework\n",
      "[{'name': 'block_id', 'nullable': False, 'primary_key': True, 'data_type': 'text'}, {'name': 'block_type', 'data_type': 'text', 'nullable': True}, {'name': 'content', 'x-lancedb-embed': True, 'data_type': 'text', 'nullable': True}, {'dedup_sort': 'desc', 'name': 'last_edited_time', 'data_type': 'timestamp', 'nullable': True}, {'name': 'inserted_at_time', 'data_type': 'timestamp', 'nullable': True}, {'name': '_dlt_load_id', 'data_type': 'text', 'nullable': False}, {'name': '_dlt_id', 'data_type': 'text', 'nullable': False, 'unique': True}]\n",
      "_dlt_pipeline_state\n",
      "[{'name': 'version', 'data_type': 'bigint', 'nullable': False}, {'name': 'engine_version', 'data_type': 'bigint', 'nullable': False}, {'name': 'pipeline_name', 'data_type': 'text', 'nullable': False}, {'name': 'state', 'data_type': 'text', 'nullable': False}, {'name': 'created_at', 'data_type': 'timestamp', 'nullable': False}, {'name': 'version_hash', 'data_type': 'text', 'nullable': True}, {'name': '_dlt_load_id', 'data_type': 'text', 'nullable': False}, {'name': '_dlt_id', 'data_type': 'text', 'nullable': False, 'unique': True}]\n",
      "_dlt_loads\n",
      "[{'name': 'load_id', 'data_type': 'text', 'nullable': False}, {'name': 'schema_name', 'data_type': 'text', 'nullable': True}, {'name': 'status', 'data_type': 'bigint', 'nullable': False}, {'name': 'inserted_at', 'data_type': 'timestamp', 'nullable': False}, {'name': 'schema_version_hash', 'data_type': 'text', 'nullable': True}]\n",
      "_dlt_version\n",
      "[{'name': 'version', 'data_type': 'bigint', 'nullable': False}, {'name': 'engine_version', 'data_type': 'bigint', 'nullable': False}, {'name': 'inserted_at', 'data_type': 'timestamp', 'nullable': False}, {'name': 'schema_name', 'data_type': 'text', 'nullable': False}, {'name': 'version_hash', 'data_type': 'text', 'nullable': False}, {'name': 'schema', 'data_type': 'text', 'nullable': False}]\n",
      "UPLOAD\n",
      "Pipeline company_policies load step completed in 1.48 seconds\n",
      "1 load package(s) were loaded to destination LanceDB and into dataset notion_pages\n",
      "The LanceDB destination used <dlt.destinations.impl.lancedb.configuration.LanceDBCredentials object at 0x7f77f492c070> location to store data\n",
      "Load package 1721473299.96335 is LOADED and contains no failed jobs\n"
     ]
    }
   ],
   "source": [
    "@dlt.resource(name=\"homework\")\n",
    "def rest_api_notion_resource():\n",
    "    notion_config: RESTAPIConfig = {\n",
    "        \"client\": {\n",
    "            \"base_url\": \"https://api.notion.com/v1/\",\n",
    "            \"auth\": {\n",
    "                \"token\": dlt.secrets[\"sources.rest_api.notion.api_key\"]\n",
    "            },\n",
    "            \"headers\":{\n",
    "            \"Content-Type\": \"application/json\",\n",
    "            \"Notion-Version\": \"2022-06-28\"\n",
    "            }\n",
    "        },\n",
    "        \"resources\": [\n",
    "            {\n",
    "                \"name\": \"search\",\n",
    "                \"endpoint\": {\n",
    "                    \"path\": \"search\",\n",
    "                    \"method\": \"POST\",\n",
    "                    \"paginator\": PostBodyPaginator(),\n",
    "                    \"json\": {\n",
    "                        \"query\": \"homework\",\n",
    "                        \"sort\": {\n",
    "                            \"direction\": \"ascending\",\n",
    "                            \"timestamp\": \"last_edited_time\"\n",
    "                        }\n",
    "                    },\n",
    "                    \"data_selector\": \"results\"\n",
    "                }\n",
    "            },\n",
    "            {\n",
    "                \"name\": \"page_content\",\n",
    "                \"endpoint\": {\n",
    "                    \"path\": \"blocks/{page_id}/children\",\n",
    "                    \"paginator\": JSONResponsePaginator(),\n",
    "                    \"params\": {\n",
    "                        \"page_id\": {\n",
    "                            \"type\": \"resolve\",\n",
    "                            \"resource\": \"search\",\n",
    "                            \"field\": \"id\"\n",
    "                        }\n",
    "                    },\n",
    "                }\n",
    "            }\n",
    "        ]\n",
    "    }\n",
    "\n",
    "    yield from rest_api_source(notion_config, name=\"homework\")\n",
    "\n",
    "def extract_page_content(response):\n",
    "    block_id = response[\"id\"]\n",
    "    last_edited_time = response[\"last_edited_time\"]\n",
    "    block_type = response.get(\"type\", \"Not paragraph\")\n",
    "    if block_type != \"paragraph\":\n",
    "        content = \"\"\n",
    "    else:\n",
    "        try:\n",
    "            content = response[\"paragraph\"][\"rich_text\"][0][\"plain_text\"]\n",
    "        except IndexError:\n",
    "            content = \"\"\n",
    "    return {\n",
    "        \"block_id\": block_id,\n",
    "        \"block_type\": block_type,\n",
    "        \"content\": content,\n",
    "        \"last_edited_time\": last_edited_time,\n",
    "        \"inserted_at_time\": datetime.now(timezone.utc)\n",
    "    }\n",
    "\n",
    "@dlt.resource(\n",
    "    name=\"homework\",\n",
    "    write_disposition=\"merge\",\n",
    "    primary_key=\"block_id\",\n",
    "    columns={\"last_edited_time\":{\"dedup_sort\":\"desc\"}}\n",
    "    )\n",
    "def rest_api_notion_incremental(\n",
    "    last_edited_time = dlt.sources.incremental(\"last_edited_time\", initial_value=\"2024-06-26T08:16:00.000Z\",primary_key=(\"block_id\"))\n",
    "):\n",
    "    # last_value = last_edited_time.last_value\n",
    "    # print(last_value)\n",
    "\n",
    "    for block in rest_api_notion_resource.add_map(extract_page_content):\n",
    "        if not(len(block[\"content\"])):\n",
    "            continue\n",
    "        yield block\n",
    "\n",
    "def load_notion() -> None:\n",
    "    pipeline = dlt.pipeline(\n",
    "        pipeline_name=\"company_policies\",\n",
    "        destination=\"lancedb\",\n",
    "        dataset_name=\"notion_pages\",\n",
    "        # full_refresh=True\n",
    "    )\n",
    "\n",
    "    load_info = pipeline.run(\n",
    "        lancedb_adapter(\n",
    "            rest_api_notion_incremental,\n",
    "            embed=\"content\"\n",
    "        ),\n",
    "        table_name=\"employee_homework\",\n",
    "        write_disposition=\"merge\"\n",
    "    )\n",
    "    print(load_info)\n",
    "\n",
    "load_notion()"
   ]
  },
  {
   "cell_type": "code",
   "execution_count": 66,
   "metadata": {
    "colab": {
     "base_uri": "https://localhost:8080/"
    },
    "id": "jF_6ghK1ujhv",
    "outputId": "5e271bb9-b282-4883-ae99-03cf27d7f1e3"
   },
   "outputs": [
    {
     "name": "stdout",
     "output_type": "stream",
     "text": [
      "['notion_pages____dlt_loads', 'notion_pages____dlt_pipeline_state', 'notion_pages____dlt_version', 'notion_pages___dltSentinelTable', 'notion_pages___employee_homework']\n"
     ]
    }
   ],
   "source": [
    "db = lancedb.connect(\"./.lancedb\")\n",
    "print(db.table_names())"
   ]
  },
  {
   "cell_type": "code",
   "execution_count": 67,
   "metadata": {
    "colab": {
     "base_uri": "https://localhost:8080/",
     "height": 1000
    },
    "id": "B7hsT5i8Y24S",
    "outputId": "106cbe0b-e558-4c88-80e0-32facf85caf6"
   },
   "outputs": [
    {
     "data": {
      "application/vnd.google.colaboratory.intrinsic+json": {
       "summary": "{\n  \"name\": \"dbtable\",\n  \"rows\": 17,\n  \"fields\": [\n    {\n      \"column\": \"id__\",\n      \"properties\": {\n        \"dtype\": \"string\",\n        \"num_unique_values\": 17,\n        \"samples\": [\n          \"48e8465f-79d3-5776-9ddf-d136689cb614\",\n          \"32ec8a74-e262-5395-b963-49f2d211ea96\",\n          \"06ed3378-4f51-5389-9474-8704d282c07a\"\n        ],\n        \"semantic_type\": \"\",\n        \"description\": \"\"\n      }\n    },\n    {\n      \"column\": \"vector__\",\n      \"properties\": {\n        \"dtype\": \"object\",\n        \"semantic_type\": \"\",\n        \"description\": \"\"\n      }\n    },\n    {\n      \"column\": \"block_id\",\n      \"properties\": {\n        \"dtype\": \"string\",\n        \"num_unique_values\": 17,\n        \"samples\": [\n          \"a8196881-ae94-4767-8767-92fe1a327d24\",\n          \"31fcbf26-2ca5-468a-8af8-d7eb4c2db8c8\",\n          \"e4ec9f4d-b687-4c28-a80d-985bfabcc2ba\"\n        ],\n        \"semantic_type\": \"\",\n        \"description\": \"\"\n      }\n    },\n    {\n      \"column\": \"block_type\",\n      \"properties\": {\n        \"dtype\": \"category\",\n        \"num_unique_values\": 1,\n        \"samples\": [\n          \"paragraph\"\n        ],\n        \"semantic_type\": \"\",\n        \"description\": \"\"\n      }\n    },\n    {\n      \"column\": \"content\",\n      \"properties\": {\n        \"dtype\": \"string\",\n        \"num_unique_values\": 17,\n        \"samples\": [\n          \"We owe our success to our employees. To show our gratitude, we will invest in our employees professional development. We want employees to feel confident about improving their efficiency and productivity. We also want to help our employees achieve personal growth and success. Each employee has $1,000 annually to spend on educational activities or material. Subscriptions and books are included in this budget, unless they are necessary for you to complete your everyday duties. Send your expenses to HR by email. Apart from online courses, we offer these training opportunities: formal training sessions (individual or corporate, employee coaching and mentoring, seats at industry conferences, on-the-job training, job shadowing, job rotation. Development is a collective process. Team members and managers should regularly discuss learning needs and opportunities. And it\\u2019s HR\\u2019s responsibility to facilitate any development activities and processes.\"\n        ],\n        \"semantic_type\": \"\",\n        \"description\": \"\"\n      }\n    },\n    {\n      \"column\": \"last_edited_time\",\n      \"properties\": {\n        \"dtype\": \"date\",\n        \"min\": \"2024-07-05 22:34:00+00:00\",\n        \"max\": \"2024-07-05 23:33:00+00:00\",\n        \"num_unique_values\": 6,\n        \"samples\": [\n          \"2024-07-05 22:34:00+00:00\"\n        ],\n        \"semantic_type\": \"\",\n        \"description\": \"\"\n      }\n    },\n    {\n      \"column\": \"inserted_at_time\",\n      \"properties\": {\n        \"dtype\": \"date\",\n        \"min\": \"2024-07-20 11:01:41.017015+00:00\",\n        \"max\": \"2024-07-20 11:01:41.021956+00:00\",\n        \"num_unique_values\": 17,\n        \"samples\": [\n          \"2024-07-20 11:01:41.017015+00:00\"\n        ],\n        \"semantic_type\": \"\",\n        \"description\": \"\"\n      }\n    },\n    {\n      \"column\": \"_dlt_load_id\",\n      \"properties\": {\n        \"dtype\": \"category\",\n        \"num_unique_values\": 1,\n        \"samples\": [\n          \"1721473299.96335\"\n        ],\n        \"semantic_type\": \"\",\n        \"description\": \"\"\n      }\n    },\n    {\n      \"column\": \"_dlt_id\",\n      \"properties\": {\n        \"dtype\": \"string\",\n        \"num_unique_values\": 17,\n        \"samples\": [\n          \"KPJFRH7ZbkbT9g\"\n        ],\n        \"semantic_type\": \"\",\n        \"description\": \"\"\n      }\n    }\n  ]\n}",
       "type": "dataframe"
      },
      "text/html": [
       "\n",
       "  <div id=\"df-45b2265e-49fb-4ae4-ae68-05a9b8e622b1\" class=\"colab-df-container\">\n",
       "    <div>\n",
       "<style scoped>\n",
       "    .dataframe tbody tr th:only-of-type {\n",
       "        vertical-align: middle;\n",
       "    }\n",
       "\n",
       "    .dataframe tbody tr th {\n",
       "        vertical-align: top;\n",
       "    }\n",
       "\n",
       "    .dataframe thead th {\n",
       "        text-align: right;\n",
       "    }\n",
       "</style>\n",
       "<table border=\"1\" class=\"dataframe\">\n",
       "  <thead>\n",
       "    <tr style=\"text-align: right;\">\n",
       "      <th></th>\n",
       "      <th>id__</th>\n",
       "      <th>vector__</th>\n",
       "      <th>block_id</th>\n",
       "      <th>block_type</th>\n",
       "      <th>content</th>\n",
       "      <th>last_edited_time</th>\n",
       "      <th>inserted_at_time</th>\n",
       "      <th>_dlt_load_id</th>\n",
       "      <th>_dlt_id</th>\n",
       "    </tr>\n",
       "  </thead>\n",
       "  <tbody>\n",
       "    <tr>\n",
       "      <th>0</th>\n",
       "      <td>48e8465f-79d3-5776-9ddf-d136689cb614</td>\n",
       "      <td>[-0.024265556, 0.04746074, -0.01179647, 0.0638...</td>\n",
       "      <td>a8196881-ae94-4767-8767-92fe1a327d24</td>\n",
       "      <td>paragraph</td>\n",
       "      <td>We owe our success to our employees. To show o...</td>\n",
       "      <td>2024-07-05 22:34:00+00:00</td>\n",
       "      <td>2024-07-20 11:01:41.017015+00:00</td>\n",
       "      <td>1721473299.96335</td>\n",
       "      <td>KPJFRH7ZbkbT9g</td>\n",
       "    </tr>\n",
       "    <tr>\n",
       "      <th>1</th>\n",
       "      <td>32ec8a74-e262-5395-b963-49f2d211ea96</td>\n",
       "      <td>[-0.04966156, 0.10853508, -0.009762607, -0.036...</td>\n",
       "      <td>31fcbf26-2ca5-468a-8af8-d7eb4c2db8c8</td>\n",
       "      <td>paragraph</td>\n",
       "      <td>We want to ensure that private information abo...</td>\n",
       "      <td>2024-07-05 22:38:00+00:00</td>\n",
       "      <td>2024-07-20 11:01:41.019171+00:00</td>\n",
       "      <td>1721473299.96335</td>\n",
       "      <td>4DvteTcm2beZcg</td>\n",
       "    </tr>\n",
       "    <tr>\n",
       "      <th>2</th>\n",
       "      <td>d51a173a-d990-5550-b3c1-5897704123c3</td>\n",
       "      <td>[-0.06316319, 0.17331503, 0.025351755, -0.0191...</td>\n",
       "      <td>da7721fd-3d0f-4c04-bc5e-825ad60bed1c</td>\n",
       "      <td>paragraph</td>\n",
       "      <td>Employee health is important to us. We don’t d...</td>\n",
       "      <td>2024-07-05 22:52:00+00:00</td>\n",
       "      <td>2024-07-20 11:01:41.019394+00:00</td>\n",
       "      <td>1721473299.96335</td>\n",
       "      <td>erz4CQFnCRyQZw</td>\n",
       "    </tr>\n",
       "    <tr>\n",
       "      <th>3</th>\n",
       "      <td>6ae4ec43-bfb6-533f-82f7-5e6e796d4c77</td>\n",
       "      <td>[-0.109743185, 0.10586075, 0.003290699, -0.021...</td>\n",
       "      <td>ff36dcf3-5faa-40b4-ad8e-92fdc952201e</td>\n",
       "      <td>paragraph</td>\n",
       "      <td>Our company is dedicated to maintaining a safe...</td>\n",
       "      <td>2024-07-05 22:52:00+00:00</td>\n",
       "      <td>2024-07-20 11:01:41.019565+00:00</td>\n",
       "      <td>1721473299.96335</td>\n",
       "      <td>TCgJZE9TjQglrA</td>\n",
       "    </tr>\n",
       "    <tr>\n",
       "      <th>4</th>\n",
       "      <td>c34e7711-ac37-5330-bc5b-d14a287b9c16</td>\n",
       "      <td>[0.05242333, -0.064576, 0.06586297, 0.01454380...</td>\n",
       "      <td>a1ff9697-4bb6-4f1e-b464-dda296dbd307</td>\n",
       "      <td>paragraph</td>\n",
       "      <td>If your job doesn’t require you to be present ...</td>\n",
       "      <td>2024-07-05 22:52:00+00:00</td>\n",
       "      <td>2024-07-20 11:01:41.019754+00:00</td>\n",
       "      <td>1721473299.96335</td>\n",
       "      <td>cVqh1LsQZXBvSQ</td>\n",
       "    </tr>\n",
       "    <tr>\n",
       "      <th>5</th>\n",
       "      <td>06ed3378-4f51-5389-9474-8704d282c07a</td>\n",
       "      <td>[0.00052337867, -0.054883413, 0.043573413, -0....</td>\n",
       "      <td>e4ec9f4d-b687-4c28-a80d-985bfabcc2ba</td>\n",
       "      <td>paragraph</td>\n",
       "      <td>Remote working refers to working from a non-of...</td>\n",
       "      <td>2024-07-05 22:52:00+00:00</td>\n",
       "      <td>2024-07-20 11:01:41.019971+00:00</td>\n",
       "      <td>1721473299.96335</td>\n",
       "      <td>+I/mXUJTEmP/4g</td>\n",
       "    </tr>\n",
       "    <tr>\n",
       "      <th>6</th>\n",
       "      <td>93273bb1-4e25-5042-910d-36d3b69a0d40</td>\n",
       "      <td>[0.03802633, -0.021509705, 0.04752782, 0.06470...</td>\n",
       "      <td>e6e550dc-b59e-4928-abd7-07eace948681</td>\n",
       "      <td>paragraph</td>\n",
       "      <td>There are some expenses that we will pay direc...</td>\n",
       "      <td>2024-07-05 22:52:00+00:00</td>\n",
       "      <td>2024-07-20 11:01:41.020167+00:00</td>\n",
       "      <td>1721473299.96335</td>\n",
       "      <td>/WB0Ac3iOzEQBA</td>\n",
       "    </tr>\n",
       "    <tr>\n",
       "      <th>7</th>\n",
       "      <td>7a0fc79f-e258-5239-b587-386c021620fc</td>\n",
       "      <td>[-0.05858811, -0.07540446, 0.033775203, 0.0096...</td>\n",
       "      <td>a269d0ca-ce14-481b-a5f4-9192d6840d6e</td>\n",
       "      <td>paragraph</td>\n",
       "      <td>Our company operates between 9 a.m. to 7 p.m. ...</td>\n",
       "      <td>2024-07-05 22:52:00+00:00</td>\n",
       "      <td>2024-07-20 11:01:41.020364+00:00</td>\n",
       "      <td>1721473299.96335</td>\n",
       "      <td>5r6oig2GI+uHDA</td>\n",
       "    </tr>\n",
       "    <tr>\n",
       "      <th>8</th>\n",
       "      <td>54e367f7-61af-5dac-bc2c-1d9632961b9e</td>\n",
       "      <td>[-0.013599302, 0.0047530197, 0.024835136, 0.01...</td>\n",
       "      <td>5b65f3e7-0a37-429a-818d-f99b53755ebd</td>\n",
       "      <td>paragraph</td>\n",
       "      <td>In this section, we are going to be covering i...</td>\n",
       "      <td>2024-07-05 23:33:00+00:00</td>\n",
       "      <td>2024-07-20 11:01:41.020558+00:00</td>\n",
       "      <td>1721473299.96335</td>\n",
       "      <td>QAahiBu3AArT2A</td>\n",
       "    </tr>\n",
       "    <tr>\n",
       "      <th>9</th>\n",
       "      <td>53203ca2-9c5a-515d-98d2-03a3fa92b9b1</td>\n",
       "      <td>[0.032060888, 0.024244698, 0.008471344, 0.0317...</td>\n",
       "      <td>b27f7d80-f2f1-460e-aa0c-b8e770cf050a</td>\n",
       "      <td>paragraph</td>\n",
       "      <td>Our company observes the following holidays: N...</td>\n",
       "      <td>2024-07-05 22:52:00+00:00</td>\n",
       "      <td>2024-07-20 11:01:41.020742+00:00</td>\n",
       "      <td>1721473299.96335</td>\n",
       "      <td>O1fnWvwjtveJGQ</td>\n",
       "    </tr>\n",
       "    <tr>\n",
       "      <th>10</th>\n",
       "      <td>c4ed39a5-06f9-579e-bad7-56f1ae126744</td>\n",
       "      <td>[-0.0131553095, 0.008382407, 0.017044391, 0.05...</td>\n",
       "      <td>cf2c7276-9d6d-4611-97ef-e7707a668176</td>\n",
       "      <td>paragraph</td>\n",
       "      <td>These holidays are considered “off-days” for m...</td>\n",
       "      <td>2024-07-05 22:52:00+00:00</td>\n",
       "      <td>2024-07-20 11:01:41.020944+00:00</td>\n",
       "      <td>1721473299.96335</td>\n",
       "      <td>BgwnUCnenhYWKw</td>\n",
       "    </tr>\n",
       "    <tr>\n",
       "      <th>11</th>\n",
       "      <td>b586572f-13ba-56c5-9a05-1871b0d35ad7</td>\n",
       "      <td>[0.027987516, 0.067343615, 0.03980646, 0.00774...</td>\n",
       "      <td>79fd88bb-894c-4db3-961e-f2e9fa571399</td>\n",
       "      <td>paragraph</td>\n",
       "      <td>Employees who are unable to work due to illnes...</td>\n",
       "      <td>2024-07-05 22:52:00+00:00</td>\n",
       "      <td>2024-07-20 11:01:41.021114+00:00</td>\n",
       "      <td>1721473299.96335</td>\n",
       "      <td>15QJKH7Uv/OKDQ</td>\n",
       "    </tr>\n",
       "    <tr>\n",
       "      <th>12</th>\n",
       "      <td>f62ad7cb-e79c-5ab4-8110-c0a8af5a918b</td>\n",
       "      <td>[0.03252615, 0.008159476, 0.08443566, 0.055641...</td>\n",
       "      <td>0b5f3660-7867-41ea-ae25-95585c3bb34e</td>\n",
       "      <td>paragraph</td>\n",
       "      <td>Losing a loved one is traumatizing. If this ha...</td>\n",
       "      <td>2024-07-05 22:52:00+00:00</td>\n",
       "      <td>2024-07-20 11:01:41.021286+00:00</td>\n",
       "      <td>1721473299.96335</td>\n",
       "      <td>Cs1IGsOpCk91Sw</td>\n",
       "    </tr>\n",
       "    <tr>\n",
       "      <th>13</th>\n",
       "      <td>139dc5d7-8652-522b-b196-ba9ee441dcda</td>\n",
       "      <td>[-0.007314052, 0.014710642, -0.019091193, 0.02...</td>\n",
       "      <td>3153e9cf-44bf-4ec1-b835-67d37731f9bc</td>\n",
       "      <td>paragraph</td>\n",
       "      <td>In accordance with German law, we offer a comp...</td>\n",
       "      <td>2024-07-05 22:52:00+00:00</td>\n",
       "      <td>2024-07-20 11:01:41.021456+00:00</td>\n",
       "      <td>1721473299.96335</td>\n",
       "      <td>P7MzZF3JotV4pA</td>\n",
       "    </tr>\n",
       "    <tr>\n",
       "      <th>14</th>\n",
       "      <td>ed2c2faf-4a8c-5036-a70b-ee8d9f0a7f49</td>\n",
       "      <td>[-0.031538427, 0.0342599, -0.027282646, 0.0275...</td>\n",
       "      <td>b9d67165-1028-4edc-841b-fe2fd4cf0cf7</td>\n",
       "      <td>paragraph</td>\n",
       "      <td>We recognize the vital role that fathers and p...</td>\n",
       "      <td>2024-07-05 22:52:00+00:00</td>\n",
       "      <td>2024-07-20 11:01:41.021630+00:00</td>\n",
       "      <td>1721473299.96335</td>\n",
       "      <td>ncjv+JKSr0rvKw</td>\n",
       "    </tr>\n",
       "    <tr>\n",
       "      <th>15</th>\n",
       "      <td>2e742350-25e5-5163-b1eb-3fc287420fed</td>\n",
       "      <td>[-0.017366946, 0.060790583, 0.01576997, -0.014...</td>\n",
       "      <td>72d2f585-a1b4-461e-ad88-45d9e3346425</td>\n",
       "      <td>paragraph</td>\n",
       "      <td>Our company’s official dress code is Business ...</td>\n",
       "      <td>2024-07-05 22:54:00+00:00</td>\n",
       "      <td>2024-07-20 11:01:41.021799+00:00</td>\n",
       "      <td>1721473299.96335</td>\n",
       "      <td>dCsWeL5G/PjICQ</td>\n",
       "    </tr>\n",
       "    <tr>\n",
       "      <th>16</th>\n",
       "      <td>b6fa0d96-f303-5765-a199-c77fef050f93</td>\n",
       "      <td>[0.033655368, 0.035742417, 0.039310906, 0.0037...</td>\n",
       "      <td>b1a9a976-eef2-4c99-9f57-3e5adb873d1f</td>\n",
       "      <td>paragraph</td>\n",
       "      <td>If you want to invite a visitor to our offices...</td>\n",
       "      <td>2024-07-05 22:56:00+00:00</td>\n",
       "      <td>2024-07-20 11:01:41.021956+00:00</td>\n",
       "      <td>1721473299.96335</td>\n",
       "      <td>WVOFqBFQSFnLFw</td>\n",
       "    </tr>\n",
       "  </tbody>\n",
       "</table>\n",
       "</div>\n",
       "    <div class=\"colab-df-buttons\">\n",
       "\n",
       "  <div class=\"colab-df-container\">\n",
       "    <button class=\"colab-df-convert\" onclick=\"convertToInteractive('df-45b2265e-49fb-4ae4-ae68-05a9b8e622b1')\"\n",
       "            title=\"Convert this dataframe to an interactive table.\"\n",
       "            style=\"display:none;\">\n",
       "\n",
       "  <svg xmlns=\"http://www.w3.org/2000/svg\" height=\"24px\" viewBox=\"0 -960 960 960\">\n",
       "    <path d=\"M120-120v-720h720v720H120Zm60-500h600v-160H180v160Zm220 220h160v-160H400v160Zm0 220h160v-160H400v160ZM180-400h160v-160H180v160Zm440 0h160v-160H620v160ZM180-180h160v-160H180v160Zm440 0h160v-160H620v160Z\"/>\n",
       "  </svg>\n",
       "    </button>\n",
       "\n",
       "  <style>\n",
       "    .colab-df-container {\n",
       "      display:flex;\n",
       "      gap: 12px;\n",
       "    }\n",
       "\n",
       "    .colab-df-convert {\n",
       "      background-color: #E8F0FE;\n",
       "      border: none;\n",
       "      border-radius: 50%;\n",
       "      cursor: pointer;\n",
       "      display: none;\n",
       "      fill: #1967D2;\n",
       "      height: 32px;\n",
       "      padding: 0 0 0 0;\n",
       "      width: 32px;\n",
       "    }\n",
       "\n",
       "    .colab-df-convert:hover {\n",
       "      background-color: #E2EBFA;\n",
       "      box-shadow: 0px 1px 2px rgba(60, 64, 67, 0.3), 0px 1px 3px 1px rgba(60, 64, 67, 0.15);\n",
       "      fill: #174EA6;\n",
       "    }\n",
       "\n",
       "    .colab-df-buttons div {\n",
       "      margin-bottom: 4px;\n",
       "    }\n",
       "\n",
       "    [theme=dark] .colab-df-convert {\n",
       "      background-color: #3B4455;\n",
       "      fill: #D2E3FC;\n",
       "    }\n",
       "\n",
       "    [theme=dark] .colab-df-convert:hover {\n",
       "      background-color: #434B5C;\n",
       "      box-shadow: 0px 1px 3px 1px rgba(0, 0, 0, 0.15);\n",
       "      filter: drop-shadow(0px 1px 2px rgba(0, 0, 0, 0.3));\n",
       "      fill: #FFFFFF;\n",
       "    }\n",
       "  </style>\n",
       "\n",
       "    <script>\n",
       "      const buttonEl =\n",
       "        document.querySelector('#df-45b2265e-49fb-4ae4-ae68-05a9b8e622b1 button.colab-df-convert');\n",
       "      buttonEl.style.display =\n",
       "        google.colab.kernel.accessAllowed ? 'block' : 'none';\n",
       "\n",
       "      async function convertToInteractive(key) {\n",
       "        const element = document.querySelector('#df-45b2265e-49fb-4ae4-ae68-05a9b8e622b1');\n",
       "        const dataTable =\n",
       "          await google.colab.kernel.invokeFunction('convertToInteractive',\n",
       "                                                    [key], {});\n",
       "        if (!dataTable) return;\n",
       "\n",
       "        const docLinkHtml = 'Like what you see? Visit the ' +\n",
       "          '<a target=\"_blank\" href=https://colab.research.google.com/notebooks/data_table.ipynb>data table notebook</a>'\n",
       "          + ' to learn more about interactive tables.';\n",
       "        element.innerHTML = '';\n",
       "        dataTable['output_type'] = 'display_data';\n",
       "        await google.colab.output.renderOutput(dataTable, element);\n",
       "        const docLink = document.createElement('div');\n",
       "        docLink.innerHTML = docLinkHtml;\n",
       "        element.appendChild(docLink);\n",
       "      }\n",
       "    </script>\n",
       "  </div>\n",
       "\n",
       "\n",
       "<div id=\"df-c9ce1a3c-5d83-47b6-baaa-2a8ac450cf46\">\n",
       "  <button class=\"colab-df-quickchart\" onclick=\"quickchart('df-c9ce1a3c-5d83-47b6-baaa-2a8ac450cf46')\"\n",
       "            title=\"Suggest charts\"\n",
       "            style=\"display:none;\">\n",
       "\n",
       "<svg xmlns=\"http://www.w3.org/2000/svg\" height=\"24px\"viewBox=\"0 0 24 24\"\n",
       "     width=\"24px\">\n",
       "    <g>\n",
       "        <path d=\"M19 3H5c-1.1 0-2 .9-2 2v14c0 1.1.9 2 2 2h14c1.1 0 2-.9 2-2V5c0-1.1-.9-2-2-2zM9 17H7v-7h2v7zm4 0h-2V7h2v10zm4 0h-2v-4h2v4z\"/>\n",
       "    </g>\n",
       "</svg>\n",
       "  </button>\n",
       "\n",
       "<style>\n",
       "  .colab-df-quickchart {\n",
       "      --bg-color: #E8F0FE;\n",
       "      --fill-color: #1967D2;\n",
       "      --hover-bg-color: #E2EBFA;\n",
       "      --hover-fill-color: #174EA6;\n",
       "      --disabled-fill-color: #AAA;\n",
       "      --disabled-bg-color: #DDD;\n",
       "  }\n",
       "\n",
       "  [theme=dark] .colab-df-quickchart {\n",
       "      --bg-color: #3B4455;\n",
       "      --fill-color: #D2E3FC;\n",
       "      --hover-bg-color: #434B5C;\n",
       "      --hover-fill-color: #FFFFFF;\n",
       "      --disabled-bg-color: #3B4455;\n",
       "      --disabled-fill-color: #666;\n",
       "  }\n",
       "\n",
       "  .colab-df-quickchart {\n",
       "    background-color: var(--bg-color);\n",
       "    border: none;\n",
       "    border-radius: 50%;\n",
       "    cursor: pointer;\n",
       "    display: none;\n",
       "    fill: var(--fill-color);\n",
       "    height: 32px;\n",
       "    padding: 0;\n",
       "    width: 32px;\n",
       "  }\n",
       "\n",
       "  .colab-df-quickchart:hover {\n",
       "    background-color: var(--hover-bg-color);\n",
       "    box-shadow: 0 1px 2px rgba(60, 64, 67, 0.3), 0 1px 3px 1px rgba(60, 64, 67, 0.15);\n",
       "    fill: var(--button-hover-fill-color);\n",
       "  }\n",
       "\n",
       "  .colab-df-quickchart-complete:disabled,\n",
       "  .colab-df-quickchart-complete:disabled:hover {\n",
       "    background-color: var(--disabled-bg-color);\n",
       "    fill: var(--disabled-fill-color);\n",
       "    box-shadow: none;\n",
       "  }\n",
       "\n",
       "  .colab-df-spinner {\n",
       "    border: 2px solid var(--fill-color);\n",
       "    border-color: transparent;\n",
       "    border-bottom-color: var(--fill-color);\n",
       "    animation:\n",
       "      spin 1s steps(1) infinite;\n",
       "  }\n",
       "\n",
       "  @keyframes spin {\n",
       "    0% {\n",
       "      border-color: transparent;\n",
       "      border-bottom-color: var(--fill-color);\n",
       "      border-left-color: var(--fill-color);\n",
       "    }\n",
       "    20% {\n",
       "      border-color: transparent;\n",
       "      border-left-color: var(--fill-color);\n",
       "      border-top-color: var(--fill-color);\n",
       "    }\n",
       "    30% {\n",
       "      border-color: transparent;\n",
       "      border-left-color: var(--fill-color);\n",
       "      border-top-color: var(--fill-color);\n",
       "      border-right-color: var(--fill-color);\n",
       "    }\n",
       "    40% {\n",
       "      border-color: transparent;\n",
       "      border-right-color: var(--fill-color);\n",
       "      border-top-color: var(--fill-color);\n",
       "    }\n",
       "    60% {\n",
       "      border-color: transparent;\n",
       "      border-right-color: var(--fill-color);\n",
       "    }\n",
       "    80% {\n",
       "      border-color: transparent;\n",
       "      border-right-color: var(--fill-color);\n",
       "      border-bottom-color: var(--fill-color);\n",
       "    }\n",
       "    90% {\n",
       "      border-color: transparent;\n",
       "      border-bottom-color: var(--fill-color);\n",
       "    }\n",
       "  }\n",
       "</style>\n",
       "\n",
       "  <script>\n",
       "    async function quickchart(key) {\n",
       "      const quickchartButtonEl =\n",
       "        document.querySelector('#' + key + ' button');\n",
       "      quickchartButtonEl.disabled = true;  // To prevent multiple clicks.\n",
       "      quickchartButtonEl.classList.add('colab-df-spinner');\n",
       "      try {\n",
       "        const charts = await google.colab.kernel.invokeFunction(\n",
       "            'suggestCharts', [key], {});\n",
       "      } catch (error) {\n",
       "        console.error('Error during call to suggestCharts:', error);\n",
       "      }\n",
       "      quickchartButtonEl.classList.remove('colab-df-spinner');\n",
       "      quickchartButtonEl.classList.add('colab-df-quickchart-complete');\n",
       "    }\n",
       "    (() => {\n",
       "      let quickchartButtonEl =\n",
       "        document.querySelector('#df-c9ce1a3c-5d83-47b6-baaa-2a8ac450cf46 button');\n",
       "      quickchartButtonEl.style.display =\n",
       "        google.colab.kernel.accessAllowed ? 'block' : 'none';\n",
       "    })();\n",
       "  </script>\n",
       "</div>\n",
       "\n",
       "    </div>\n",
       "  </div>\n"
      ],
      "text/plain": [
       "                                    id__  \\\n",
       "0   48e8465f-79d3-5776-9ddf-d136689cb614   \n",
       "1   32ec8a74-e262-5395-b963-49f2d211ea96   \n",
       "2   d51a173a-d990-5550-b3c1-5897704123c3   \n",
       "3   6ae4ec43-bfb6-533f-82f7-5e6e796d4c77   \n",
       "4   c34e7711-ac37-5330-bc5b-d14a287b9c16   \n",
       "5   06ed3378-4f51-5389-9474-8704d282c07a   \n",
       "6   93273bb1-4e25-5042-910d-36d3b69a0d40   \n",
       "7   7a0fc79f-e258-5239-b587-386c021620fc   \n",
       "8   54e367f7-61af-5dac-bc2c-1d9632961b9e   \n",
       "9   53203ca2-9c5a-515d-98d2-03a3fa92b9b1   \n",
       "10  c4ed39a5-06f9-579e-bad7-56f1ae126744   \n",
       "11  b586572f-13ba-56c5-9a05-1871b0d35ad7   \n",
       "12  f62ad7cb-e79c-5ab4-8110-c0a8af5a918b   \n",
       "13  139dc5d7-8652-522b-b196-ba9ee441dcda   \n",
       "14  ed2c2faf-4a8c-5036-a70b-ee8d9f0a7f49   \n",
       "15  2e742350-25e5-5163-b1eb-3fc287420fed   \n",
       "16  b6fa0d96-f303-5765-a199-c77fef050f93   \n",
       "\n",
       "                                             vector__  \\\n",
       "0   [-0.024265556, 0.04746074, -0.01179647, 0.0638...   \n",
       "1   [-0.04966156, 0.10853508, -0.009762607, -0.036...   \n",
       "2   [-0.06316319, 0.17331503, 0.025351755, -0.0191...   \n",
       "3   [-0.109743185, 0.10586075, 0.003290699, -0.021...   \n",
       "4   [0.05242333, -0.064576, 0.06586297, 0.01454380...   \n",
       "5   [0.00052337867, -0.054883413, 0.043573413, -0....   \n",
       "6   [0.03802633, -0.021509705, 0.04752782, 0.06470...   \n",
       "7   [-0.05858811, -0.07540446, 0.033775203, 0.0096...   \n",
       "8   [-0.013599302, 0.0047530197, 0.024835136, 0.01...   \n",
       "9   [0.032060888, 0.024244698, 0.008471344, 0.0317...   \n",
       "10  [-0.0131553095, 0.008382407, 0.017044391, 0.05...   \n",
       "11  [0.027987516, 0.067343615, 0.03980646, 0.00774...   \n",
       "12  [0.03252615, 0.008159476, 0.08443566, 0.055641...   \n",
       "13  [-0.007314052, 0.014710642, -0.019091193, 0.02...   \n",
       "14  [-0.031538427, 0.0342599, -0.027282646, 0.0275...   \n",
       "15  [-0.017366946, 0.060790583, 0.01576997, -0.014...   \n",
       "16  [0.033655368, 0.035742417, 0.039310906, 0.0037...   \n",
       "\n",
       "                                block_id block_type  \\\n",
       "0   a8196881-ae94-4767-8767-92fe1a327d24  paragraph   \n",
       "1   31fcbf26-2ca5-468a-8af8-d7eb4c2db8c8  paragraph   \n",
       "2   da7721fd-3d0f-4c04-bc5e-825ad60bed1c  paragraph   \n",
       "3   ff36dcf3-5faa-40b4-ad8e-92fdc952201e  paragraph   \n",
       "4   a1ff9697-4bb6-4f1e-b464-dda296dbd307  paragraph   \n",
       "5   e4ec9f4d-b687-4c28-a80d-985bfabcc2ba  paragraph   \n",
       "6   e6e550dc-b59e-4928-abd7-07eace948681  paragraph   \n",
       "7   a269d0ca-ce14-481b-a5f4-9192d6840d6e  paragraph   \n",
       "8   5b65f3e7-0a37-429a-818d-f99b53755ebd  paragraph   \n",
       "9   b27f7d80-f2f1-460e-aa0c-b8e770cf050a  paragraph   \n",
       "10  cf2c7276-9d6d-4611-97ef-e7707a668176  paragraph   \n",
       "11  79fd88bb-894c-4db3-961e-f2e9fa571399  paragraph   \n",
       "12  0b5f3660-7867-41ea-ae25-95585c3bb34e  paragraph   \n",
       "13  3153e9cf-44bf-4ec1-b835-67d37731f9bc  paragraph   \n",
       "14  b9d67165-1028-4edc-841b-fe2fd4cf0cf7  paragraph   \n",
       "15  72d2f585-a1b4-461e-ad88-45d9e3346425  paragraph   \n",
       "16  b1a9a976-eef2-4c99-9f57-3e5adb873d1f  paragraph   \n",
       "\n",
       "                                              content  \\\n",
       "0   We owe our success to our employees. To show o...   \n",
       "1   We want to ensure that private information abo...   \n",
       "2   Employee health is important to us. We don’t d...   \n",
       "3   Our company is dedicated to maintaining a safe...   \n",
       "4   If your job doesn’t require you to be present ...   \n",
       "5   Remote working refers to working from a non-of...   \n",
       "6   There are some expenses that we will pay direc...   \n",
       "7   Our company operates between 9 a.m. to 7 p.m. ...   \n",
       "8   In this section, we are going to be covering i...   \n",
       "9   Our company observes the following holidays: N...   \n",
       "10  These holidays are considered “off-days” for m...   \n",
       "11  Employees who are unable to work due to illnes...   \n",
       "12  Losing a loved one is traumatizing. If this ha...   \n",
       "13  In accordance with German law, we offer a comp...   \n",
       "14  We recognize the vital role that fathers and p...   \n",
       "15  Our company’s official dress code is Business ...   \n",
       "16  If you want to invite a visitor to our offices...   \n",
       "\n",
       "            last_edited_time                 inserted_at_time  \\\n",
       "0  2024-07-05 22:34:00+00:00 2024-07-20 11:01:41.017015+00:00   \n",
       "1  2024-07-05 22:38:00+00:00 2024-07-20 11:01:41.019171+00:00   \n",
       "2  2024-07-05 22:52:00+00:00 2024-07-20 11:01:41.019394+00:00   \n",
       "3  2024-07-05 22:52:00+00:00 2024-07-20 11:01:41.019565+00:00   \n",
       "4  2024-07-05 22:52:00+00:00 2024-07-20 11:01:41.019754+00:00   \n",
       "5  2024-07-05 22:52:00+00:00 2024-07-20 11:01:41.019971+00:00   \n",
       "6  2024-07-05 22:52:00+00:00 2024-07-20 11:01:41.020167+00:00   \n",
       "7  2024-07-05 22:52:00+00:00 2024-07-20 11:01:41.020364+00:00   \n",
       "8  2024-07-05 23:33:00+00:00 2024-07-20 11:01:41.020558+00:00   \n",
       "9  2024-07-05 22:52:00+00:00 2024-07-20 11:01:41.020742+00:00   \n",
       "10 2024-07-05 22:52:00+00:00 2024-07-20 11:01:41.020944+00:00   \n",
       "11 2024-07-05 22:52:00+00:00 2024-07-20 11:01:41.021114+00:00   \n",
       "12 2024-07-05 22:52:00+00:00 2024-07-20 11:01:41.021286+00:00   \n",
       "13 2024-07-05 22:52:00+00:00 2024-07-20 11:01:41.021456+00:00   \n",
       "14 2024-07-05 22:52:00+00:00 2024-07-20 11:01:41.021630+00:00   \n",
       "15 2024-07-05 22:54:00+00:00 2024-07-20 11:01:41.021799+00:00   \n",
       "16 2024-07-05 22:56:00+00:00 2024-07-20 11:01:41.021956+00:00   \n",
       "\n",
       "        _dlt_load_id         _dlt_id  \n",
       "0   1721473299.96335  KPJFRH7ZbkbT9g  \n",
       "1   1721473299.96335  4DvteTcm2beZcg  \n",
       "2   1721473299.96335  erz4CQFnCRyQZw  \n",
       "3   1721473299.96335  TCgJZE9TjQglrA  \n",
       "4   1721473299.96335  cVqh1LsQZXBvSQ  \n",
       "5   1721473299.96335  +I/mXUJTEmP/4g  \n",
       "6   1721473299.96335  /WB0Ac3iOzEQBA  \n",
       "7   1721473299.96335  5r6oig2GI+uHDA  \n",
       "8   1721473299.96335  QAahiBu3AArT2A  \n",
       "9   1721473299.96335  O1fnWvwjtveJGQ  \n",
       "10  1721473299.96335  BgwnUCnenhYWKw  \n",
       "11  1721473299.96335  15QJKH7Uv/OKDQ  \n",
       "12  1721473299.96335  Cs1IGsOpCk91Sw  \n",
       "13  1721473299.96335  P7MzZF3JotV4pA  \n",
       "14  1721473299.96335  ncjv+JKSr0rvKw  \n",
       "15  1721473299.96335  dCsWeL5G/PjICQ  \n",
       "16  1721473299.96335  WVOFqBFQSFnLFw  "
      ]
     },
     "execution_count": 67,
     "metadata": {},
     "output_type": "execute_result"
    }
   ],
   "source": [
    "import lancedb\n",
    "\n",
    "db = lancedb.connect(\".lancedb\")\n",
    "dbtable = db.open_table(\"notion_pages___employee_homework\")\n",
    "\n",
    "dbtable.to_pandas()"
   ]
  },
  {
   "cell_type": "markdown",
   "metadata": {
    "id": "RYcPT9ZHzm60"
   },
   "source": [
    "## Q2. Running the Pipeline: Last edited time\n",
    "\n",
    "In the demo, we created an incremental dlt resource `rest_api_notion_incremental` that keeps track of `last_edited_time`. What value does it store after you've run your pipeline once? (Hint: you will be able to get this value by performing some aggregation function on the column `last_edited_time` of the table)\n",
    "\n",
    "* `Timestamp('2024-07-05 22:34:00+0000', tz='UTC') (OR \"2024-07-05T22:34:00.000Z\")`\n",
    "* **`Timestamp('2024-07-05 23:33:00+0000', tz='UTC') (OR \"2024-07-05T23:33:00.000Z\")`** ✅\n",
    "* `Timestamp('2024-07-05 23:52:00+0000', tz='UTC') (OR \"2024-07-05T23:52:00.000Z\")`\n",
    "* `Timestamp('2024-07-05 22:56:00+0000', tz='UTC') (OR \"2024-07-05T22:56:00.000Z\")`"
   ]
  },
  {
   "cell_type": "code",
   "execution_count": 68,
   "metadata": {
    "colab": {
     "base_uri": "https://localhost:8080/"
    },
    "id": "J8n_-Qu2zk5a",
    "outputId": "99b48c99-6b58-464d-e278-20ceff7a74af"
   },
   "outputs": [
    {
     "data": {
      "text/plain": [
       "<DatetimeArray>\n",
       "['2024-07-05 22:34:00+00:00', '2024-07-05 22:38:00+00:00',\n",
       " '2024-07-05 22:52:00+00:00', '2024-07-05 23:33:00+00:00',\n",
       " '2024-07-05 22:54:00+00:00', '2024-07-05 22:56:00+00:00']\n",
       "Length: 6, dtype: datetime64[us, UTC]"
      ]
     },
     "execution_count": 68,
     "metadata": {},
     "output_type": "execute_result"
    }
   ],
   "source": [
    "df = dbtable.to_pandas()\n",
    "df['last_edited_time'].unique()"
   ]
  },
  {
   "cell_type": "code",
   "execution_count": 69,
   "metadata": {
    "colab": {
     "base_uri": "https://localhost:8080/"
    },
    "id": "QpYTLq06zk7u",
    "outputId": "2cd23404-d156-40d1-c181-4efe248037e7"
   },
   "outputs": [
    {
     "data": {
      "text/plain": [
       "Timestamp('2024-07-05 23:33:00+0000', tz='UTC')"
      ]
     },
     "execution_count": 69,
     "metadata": {},
     "output_type": "execute_result"
    }
   ],
   "source": [
    "df['last_edited_time'].max()"
   ]
  },
  {
   "cell_type": "markdown",
   "metadata": {
    "id": "txfajGyU0Pvf"
   },
   "source": [
    "## Q3. Ask the Assistant\n",
    "\n",
    "Find out with the help of the AI assistant: how many PTO days are the employees entitled to in a year?  \n",
    "\n",
    "* 20\n",
    "* 25\n",
    "* ***30*** ✅\n",
    "* 35"
   ]
  },
  {
   "cell_type": "code",
   "execution_count": 80,
   "metadata": {
    "colab": {
     "base_uri": "https://localhost:8080/"
    },
    "id": "kITCoZv85Ag5",
    "outputId": "b9202d01-74c7-4027-b287-d05000a1d5be"
   },
   "outputs": [
    {
     "name": "stdout",
     "output_type": "stream",
     "text": [
      ">>> Downloading ollama...\n",
      "############################################################################################# 100.0%\n",
      ">>> Installing ollama to /usr/local/bin...\n",
      ">>> Adding ollama user to video group...\n",
      ">>> Adding current user to ollama group...\n",
      ">>> Creating ollama systemd service...\n",
      "WARNING: Unable to detect NVIDIA/AMD GPU. Install lspci or lshw to automatically detect and install GPU dependencies.\n",
      ">>> The Ollama API is now available at 127.0.0.1:11434.\n",
      ">>> Install complete. Run \"ollama\" from the command line.\n"
     ]
    }
   ],
   "source": [
    "!curl -fsSL https://ollama.com/install.sh | sh"
   ]
  },
  {
   "cell_type": "code",
   "execution_count": 81,
   "metadata": {
    "id": "Yp1cSSPn5FUQ"
   },
   "outputs": [],
   "source": [
    "!nohup ollama serve > nohup.out 2>&1 &"
   ]
  },
  {
   "cell_type": "code",
   "execution_count": 82,
   "metadata": {
    "id": "S8HKNK7k5Xze"
   },
   "outputs": [],
   "source": [
    "%%capture\n",
    "!ollama pull llama2-uncensored"
   ]
  },
  {
   "cell_type": "code",
   "execution_count": 83,
   "metadata": {
    "colab": {
     "base_uri": "https://localhost:8080/"
    },
    "id": "sQhykrlGZoId",
    "outputId": "1355ae38-3d03-4adf-8d8c-9466f4012c1b"
   },
   "outputs": [
    {
     "name": "stdout",
     "output_type": "stream",
     "text": [
      "Requirement already satisfied: ollama in /usr/local/lib/python3.10/dist-packages (0.3.0)\n",
      "Requirement already satisfied: httpx<0.28.0,>=0.27.0 in /usr/local/lib/python3.10/dist-packages (from ollama) (0.27.0)\n",
      "Requirement already satisfied: anyio in /usr/local/lib/python3.10/dist-packages (from httpx<0.28.0,>=0.27.0->ollama) (3.7.1)\n",
      "Requirement already satisfied: certifi in /usr/local/lib/python3.10/dist-packages (from httpx<0.28.0,>=0.27.0->ollama) (2024.7.4)\n",
      "Requirement already satisfied: httpcore==1.* in /usr/local/lib/python3.10/dist-packages (from httpx<0.28.0,>=0.27.0->ollama) (1.0.5)\n",
      "Requirement already satisfied: idna in /usr/local/lib/python3.10/dist-packages (from httpx<0.28.0,>=0.27.0->ollama) (3.7)\n",
      "Requirement already satisfied: sniffio in /usr/local/lib/python3.10/dist-packages (from httpx<0.28.0,>=0.27.0->ollama) (1.3.1)\n",
      "Requirement already satisfied: h11<0.15,>=0.13 in /usr/local/lib/python3.10/dist-packages (from httpcore==1.*->httpx<0.28.0,>=0.27.0->ollama) (0.14.0)\n",
      "Requirement already satisfied: exceptiongroup in /usr/local/lib/python3.10/dist-packages (from anyio->httpx<0.28.0,>=0.27.0->ollama) (1.2.2)\n"
     ]
    }
   ],
   "source": [
    "%%capture\n",
    "!pip install ollama"
   ]
  },
  {
   "cell_type": "code",
   "execution_count": 84,
   "metadata": {
    "id": "2M4T3gF0bQQV"
   },
   "outputs": [],
   "source": [
    "import ollama"
   ]
  },
  {
   "cell_type": "code",
   "execution_count": 75,
   "metadata": {
    "id": "c1rSQm33qx2r"
   },
   "outputs": [],
   "source": [
    "def retrieve_context_from_lancedb(dbtable, question, top_k=2):\n",
    "\n",
    "    query_results = dbtable.search(query=question).to_list()\n",
    "    context = \"\\n\".join([result[\"content\"] for result in query_results[:top_k]])\n",
    "\n",
    "    return context"
   ]
  },
  {
   "cell_type": "code",
   "execution_count": 85,
   "metadata": {
    "id": "2OvqfvFU_h3F"
   },
   "outputs": [],
   "source": [
    "def main():\n",
    "  # Connect to the lancedb table\n",
    "  db = lancedb.connect(\".lancedb\")\n",
    "  dbtable = db.open_table(\"notion_pages___employee_homework\")\n",
    "\n",
    "  # A system prompt telling ollama to accept input in the form of \"Question: ... ; Context: ...\"\n",
    "  messages = [\n",
    "      {\"role\": \"system\", \"content\": \"You are a helpful assistant that helps users understand policies inside a company's employee handbook. The user will first ask you a question and then provide you relevant paragraphs from the handbook as context. Please answer the question based on the provided context. For any details missing in the paragraph, encourage the employee to contact the HR for that information. Please keep the responses conversational.\"}\n",
    "  ]\n",
    "\n",
    "  while True:\n",
    "    # Accept user question\n",
    "    question = input(\"You: \")\n",
    "\n",
    "    # Retrieve the relevant paragraphs on the question\n",
    "    context = retrieve_context_from_lancedb(dbtable,question,top_k=2)\n",
    "\n",
    "    # Create a user prompt using the question and retrieved context\n",
    "    messages.append(\n",
    "        {\"role\": \"user\", \"content\": f\"Question: '{question}'; Context:'{context}'\"}\n",
    "    )\n",
    "\n",
    "    # Get the response from the LLM\n",
    "    response = ollama.chat(\n",
    "        model=\"llama2-uncensored\",\n",
    "        messages=messages\n",
    "    )\n",
    "    response_content = response['message']['content']\n",
    "    print(f\"Assistant: {response_content}\")\n",
    "\n",
    "    # Add the response into the context window\n",
    "    messages.append(\n",
    "        {\"role\": \"assistant\", \"content\":response_content}\n",
    "    )"
   ]
  },
  {
   "cell_type": "code",
   "execution_count": null,
   "metadata": {
    "colab": {
     "base_uri": "https://localhost:8080/"
    },
    "id": "lCcHrjymfdgE",
    "outputId": "68d2e2f3-fefd-4e45-e7d0-badf49908ae1"
   },
   "outputs": [
    {
     "name": "stdout",
     "output_type": "stream",
     "text": [
      "You: how many PTO days are the employees entitled to in a year?\n",
      "Assistant: Thank you for providing me with the question and context. Based on the relevant paragraphs from the employee handbook, employees are entitled to 30 days of paid time off (PTO) per year. They receive 2.5 days per month, which means they can take a PTO day anytime after their first week with our company. Employees will earn an additional day every year up to a maximum of 25 days overall. If the employee wants to use their PTO, they need to send a request through HRIS and if approved by their manager or HR, they can take leave anytime during the year. However, employees cannot transfer remaining PTO to the next year. They are encouraged to use their time off throughout the year. If an employee leaves our company for whatever reason, we may compensate accrued PTO with their final paycheck according to local law. For non-exempt employees who work on a holiday, they will receive their regular hourly rate with a premium for working overtime. Exempt employees will be granted an additional day of PTO within 12 months after the holiday.\n"
     ]
    }
   ],
   "source": [
    "main()"
   ]
  }
 ],
 "metadata": {
  "accelerator": "GPU",
  "colab": {
   "gpuType": "T4",
   "provenance": []
  },
  "kernelspec": {
   "display_name": "Python 3 (ipykernel)",
   "language": "python",
   "name": "python3"
  },
  "language_info": {
   "codemirror_mode": {
    "name": "ipython",
    "version": 3
   },
   "file_extension": ".py",
   "mimetype": "text/x-python",
   "name": "python",
   "nbconvert_exporter": "python",
   "pygments_lexer": "ipython3",
   "version": "3.10.12"
  }
 },
 "nbformat": 4,
 "nbformat_minor": 4
}
